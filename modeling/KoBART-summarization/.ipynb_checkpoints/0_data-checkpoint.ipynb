{
 "cells": [
  {
   "cell_type": "markdown",
   "metadata": {
    "id": "ytJ7bJ7AC4ft"
   },
   "source": [
    "## Drive mount"
   ]
  },
  {
   "cell_type": "code",
   "execution_count": 1,
   "metadata": {
    "colab": {
     "base_uri": "https://localhost:8080/"
    },
    "executionInfo": {
     "elapsed": 47052,
     "status": "ok",
     "timestamp": 1679028215818,
     "user": {
      "displayName": "Cheonuk Park",
      "userId": "04341526218995438359"
     },
     "user_tz": -540
    },
    "id": "NBVYOTzZJ-vX",
    "outputId": "3b6f865d-9fe1-471e-8ede-8b77c852e7af"
   },
   "outputs": [
    {
     "name": "stdout",
     "output_type": "stream",
     "text": [
      "Mounted at /content/drive\n"
     ]
    }
   ],
   "source": [
    "from google.colab import drive\n",
    "drive.mount('/content/drive')"
   ]
  },
  {
   "cell_type": "markdown",
   "metadata": {
    "id": "UTx4d6A7DOnh"
   },
   "source": [
    "## Load Raw Data"
   ]
  },
  {
   "cell_type": "code",
   "execution_count": 16,
   "metadata": {
    "colab": {
     "base_uri": "https://localhost:8080/",
     "height": 354
    },
    "executionInfo": {
     "elapsed": 7208,
     "status": "ok",
     "timestamp": 1679028431948,
     "user": {
      "displayName": "Cheonuk Park",
      "userId": "04341526218995438359"
     },
     "user_tz": -540
    },
    "id": "Yp8AFmX1J186",
    "outputId": "b2ee3b70-30c8-4984-9788-8ae4cb6aa087"
   },
   "outputs": [
    {
     "data": {
      "text/html": [
       "\n",
       "  <div id=\"df-007698c4-9162-4c4e-bb20-31443699051e\">\n",
       "    <div class=\"colab-df-container\">\n",
       "      <div>\n",
       "<style scoped>\n",
       "    .dataframe tbody tr th:only-of-type {\n",
       "        vertical-align: middle;\n",
       "    }\n",
       "\n",
       "    .dataframe tbody tr th {\n",
       "        vertical-align: top;\n",
       "    }\n",
       "\n",
       "    .dataframe thead th {\n",
       "        text-align: right;\n",
       "    }\n",
       "</style>\n",
       "<table border=\"1\" class=\"dataframe\">\n",
       "  <thead>\n",
       "    <tr style=\"text-align: right;\">\n",
       "      <th></th>\n",
       "      <th>Unnamed: 0.1</th>\n",
       "      <th>reviewerID</th>\n",
       "      <th>asin</th>\n",
       "      <th>reviewerName</th>\n",
       "      <th>helpful</th>\n",
       "      <th>reviewText</th>\n",
       "      <th>overall</th>\n",
       "      <th>summary</th>\n",
       "      <th>unixReviewTime</th>\n",
       "      <th>reviewTime</th>\n",
       "      <th>category</th>\n",
       "      <th>Unnamed: 0</th>\n",
       "    </tr>\n",
       "  </thead>\n",
       "  <tbody>\n",
       "    <tr>\n",
       "      <th>0</th>\n",
       "      <td>0</td>\n",
       "      <td>A14CK12J7C7JRK</td>\n",
       "      <td>1223000893</td>\n",
       "      <td>Consumer in NorCal</td>\n",
       "      <td>[0, 0]</td>\n",
       "      <td>I purchased the Trilogy with hoping my two cat...</td>\n",
       "      <td>3</td>\n",
       "      <td>Nice Distraction for my cats for about 15 minutes</td>\n",
       "      <td>1294790400</td>\n",
       "      <td>01 12, 2011</td>\n",
       "      <td>pet_supplies</td>\n",
       "      <td>NaN</td>\n",
       "    </tr>\n",
       "    <tr>\n",
       "      <th>1</th>\n",
       "      <td>1</td>\n",
       "      <td>A39QHP5WLON5HV</td>\n",
       "      <td>1223000893</td>\n",
       "      <td>Melodee Placial</td>\n",
       "      <td>[0, 0]</td>\n",
       "      <td>There are usually one or more of my cats watch...</td>\n",
       "      <td>5</td>\n",
       "      <td>Entertaining for my cats</td>\n",
       "      <td>1379116800</td>\n",
       "      <td>09 14, 2013</td>\n",
       "      <td>pet_supplies</td>\n",
       "      <td>NaN</td>\n",
       "    </tr>\n",
       "    <tr>\n",
       "      <th>2</th>\n",
       "      <td>2</td>\n",
       "      <td>A2CR37UY3VR7BN</td>\n",
       "      <td>1223000893</td>\n",
       "      <td>Michelle Ashbery</td>\n",
       "      <td>[0, 0]</td>\n",
       "      <td>I bought the triliogy and have tested out all ...</td>\n",
       "      <td>4</td>\n",
       "      <td>Entertaining</td>\n",
       "      <td>1355875200</td>\n",
       "      <td>12 19, 2012</td>\n",
       "      <td>pet_supplies</td>\n",
       "      <td>NaN</td>\n",
       "    </tr>\n",
       "    <tr>\n",
       "      <th>3</th>\n",
       "      <td>3</td>\n",
       "      <td>A2A4COGL9VW2HY</td>\n",
       "      <td>1223000893</td>\n",
       "      <td>Michelle P</td>\n",
       "      <td>[2, 2]</td>\n",
       "      <td>My female kitty could care less about these vi...</td>\n",
       "      <td>4</td>\n",
       "      <td>Happy to have them</td>\n",
       "      <td>1305158400</td>\n",
       "      <td>05 12, 2011</td>\n",
       "      <td>pet_supplies</td>\n",
       "      <td>NaN</td>\n",
       "    </tr>\n",
       "    <tr>\n",
       "      <th>4</th>\n",
       "      <td>4</td>\n",
       "      <td>A2UBQA85NIGLHA</td>\n",
       "      <td>1223000893</td>\n",
       "      <td>Tim  Isenhour \"Timbo\"</td>\n",
       "      <td>[6, 7]</td>\n",
       "      <td>If I had gotten just volume two, I would have ...</td>\n",
       "      <td>3</td>\n",
       "      <td>You really only need vol 2</td>\n",
       "      <td>1330905600</td>\n",
       "      <td>03 5, 2012</td>\n",
       "      <td>pet_supplies</td>\n",
       "      <td>NaN</td>\n",
       "    </tr>\n",
       "  </tbody>\n",
       "</table>\n",
       "</div>\n",
       "      <button class=\"colab-df-convert\" onclick=\"convertToInteractive('df-007698c4-9162-4c4e-bb20-31443699051e')\"\n",
       "              title=\"Convert this dataframe to an interactive table.\"\n",
       "              style=\"display:none;\">\n",
       "        \n",
       "  <svg xmlns=\"http://www.w3.org/2000/svg\" height=\"24px\"viewBox=\"0 0 24 24\"\n",
       "       width=\"24px\">\n",
       "    <path d=\"M0 0h24v24H0V0z\" fill=\"none\"/>\n",
       "    <path d=\"M18.56 5.44l.94 2.06.94-2.06 2.06-.94-2.06-.94-.94-2.06-.94 2.06-2.06.94zm-11 1L8.5 8.5l.94-2.06 2.06-.94-2.06-.94L8.5 2.5l-.94 2.06-2.06.94zm10 10l.94 2.06.94-2.06 2.06-.94-2.06-.94-.94-2.06-.94 2.06-2.06.94z\"/><path d=\"M17.41 7.96l-1.37-1.37c-.4-.4-.92-.59-1.43-.59-.52 0-1.04.2-1.43.59L10.3 9.45l-7.72 7.72c-.78.78-.78 2.05 0 2.83L4 21.41c.39.39.9.59 1.41.59.51 0 1.02-.2 1.41-.59l7.78-7.78 2.81-2.81c.8-.78.8-2.07 0-2.86zM5.41 20L4 18.59l7.72-7.72 1.47 1.35L5.41 20z\"/>\n",
       "  </svg>\n",
       "      </button>\n",
       "      \n",
       "  <style>\n",
       "    .colab-df-container {\n",
       "      display:flex;\n",
       "      flex-wrap:wrap;\n",
       "      gap: 12px;\n",
       "    }\n",
       "\n",
       "    .colab-df-convert {\n",
       "      background-color: #E8F0FE;\n",
       "      border: none;\n",
       "      border-radius: 50%;\n",
       "      cursor: pointer;\n",
       "      display: none;\n",
       "      fill: #1967D2;\n",
       "      height: 32px;\n",
       "      padding: 0 0 0 0;\n",
       "      width: 32px;\n",
       "    }\n",
       "\n",
       "    .colab-df-convert:hover {\n",
       "      background-color: #E2EBFA;\n",
       "      box-shadow: 0px 1px 2px rgba(60, 64, 67, 0.3), 0px 1px 3px 1px rgba(60, 64, 67, 0.15);\n",
       "      fill: #174EA6;\n",
       "    }\n",
       "\n",
       "    [theme=dark] .colab-df-convert {\n",
       "      background-color: #3B4455;\n",
       "      fill: #D2E3FC;\n",
       "    }\n",
       "\n",
       "    [theme=dark] .colab-df-convert:hover {\n",
       "      background-color: #434B5C;\n",
       "      box-shadow: 0px 1px 3px 1px rgba(0, 0, 0, 0.15);\n",
       "      filter: drop-shadow(0px 1px 2px rgba(0, 0, 0, 0.3));\n",
       "      fill: #FFFFFF;\n",
       "    }\n",
       "  </style>\n",
       "\n",
       "      <script>\n",
       "        const buttonEl =\n",
       "          document.querySelector('#df-007698c4-9162-4c4e-bb20-31443699051e button.colab-df-convert');\n",
       "        buttonEl.style.display =\n",
       "          google.colab.kernel.accessAllowed ? 'block' : 'none';\n",
       "\n",
       "        async function convertToInteractive(key) {\n",
       "          const element = document.querySelector('#df-007698c4-9162-4c4e-bb20-31443699051e');\n",
       "          const dataTable =\n",
       "            await google.colab.kernel.invokeFunction('convertToInteractive',\n",
       "                                                     [key], {});\n",
       "          if (!dataTable) return;\n",
       "\n",
       "          const docLinkHtml = 'Like what you see? Visit the ' +\n",
       "            '<a target=\"_blank\" href=https://colab.research.google.com/notebooks/data_table.ipynb>data table notebook</a>'\n",
       "            + ' to learn more about interactive tables.';\n",
       "          element.innerHTML = '';\n",
       "          dataTable['output_type'] = 'display_data';\n",
       "          await google.colab.output.renderOutput(dataTable, element);\n",
       "          const docLink = document.createElement('div');\n",
       "          docLink.innerHTML = docLinkHtml;\n",
       "          element.appendChild(docLink);\n",
       "        }\n",
       "      </script>\n",
       "    </div>\n",
       "  </div>\n",
       "  "
      ],
      "text/plain": [
       "   Unnamed: 0.1      reviewerID        asin           reviewerName helpful  \\\n",
       "0             0  A14CK12J7C7JRK  1223000893     Consumer in NorCal  [0, 0]   \n",
       "1             1  A39QHP5WLON5HV  1223000893        Melodee Placial  [0, 0]   \n",
       "2             2  A2CR37UY3VR7BN  1223000893       Michelle Ashbery  [0, 0]   \n",
       "3             3  A2A4COGL9VW2HY  1223000893             Michelle P  [2, 2]   \n",
       "4             4  A2UBQA85NIGLHA  1223000893  Tim  Isenhour \"Timbo\"  [6, 7]   \n",
       "\n",
       "                                          reviewText  overall  \\\n",
       "0  I purchased the Trilogy with hoping my two cat...        3   \n",
       "1  There are usually one or more of my cats watch...        5   \n",
       "2  I bought the triliogy and have tested out all ...        4   \n",
       "3  My female kitty could care less about these vi...        4   \n",
       "4  If I had gotten just volume two, I would have ...        3   \n",
       "\n",
       "                                             summary  unixReviewTime  \\\n",
       "0  Nice Distraction for my cats for about 15 minutes      1294790400   \n",
       "1                           Entertaining for my cats      1379116800   \n",
       "2                                       Entertaining      1355875200   \n",
       "3                                 Happy to have them      1305158400   \n",
       "4                         You really only need vol 2      1330905600   \n",
       "\n",
       "    reviewTime      category  Unnamed: 0  \n",
       "0  01 12, 2011  pet_supplies         NaN  \n",
       "1  09 14, 2013  pet_supplies         NaN  \n",
       "2  12 19, 2012  pet_supplies         NaN  \n",
       "3  05 12, 2011  pet_supplies         NaN  \n",
       "4   03 5, 2012  pet_supplies         NaN  "
      ]
     },
     "execution_count": 16,
     "metadata": {},
     "output_type": "execute_result"
    }
   ],
   "source": [
    "import pandas as pd\n",
    "\n",
    "data_path = '/content/drive/Shareddrives/Capstone/amazon_reviews_5categories.csv'\n",
    "df = pd.read_csv(data_path)\n",
    "df.head()"
   ]
  },
  {
   "cell_type": "markdown",
   "metadata": {
    "id": "VRVLoj2JDTLl"
   },
   "source": [
    "#### Null drop & Review length check"
   ]
  },
  {
   "cell_type": "code",
   "execution_count": 17,
   "metadata": {
    "executionInfo": {
     "elapsed": 1554,
     "status": "ok",
     "timestamp": 1679028433484,
     "user": {
      "displayName": "Cheonuk Park",
      "userId": "04341526218995438359"
     },
     "user_tz": -540
    },
    "id": "I38JSUagN_uB"
   },
   "outputs": [],
   "source": [
    "df.dropna(subset=['summary', 'reviewText'])\n",
    "\n",
    "summaries = [str(_) for _ in list(df['summary'])]\n",
    "reviewTexts = [str(_) for _ in list(df['reviewText'])]\n",
    "sum_lens = [len(_) for _ in summaries]\n",
    "review_lens = [len(_) for _ in reviewTexts]\n",
    "\n",
    "df['summary'] = summaries\n",
    "df['reviewText'] = reviewTexts\n",
    "df['sum_len'] = sum_lens\n",
    "df['review_len'] = review_lens"
   ]
  },
  {
   "cell_type": "code",
   "execution_count": 18,
   "metadata": {
    "colab": {
     "base_uri": "https://localhost:8080/",
     "height": 300
    },
    "executionInfo": {
     "elapsed": 7,
     "status": "ok",
     "timestamp": 1679028433484,
     "user": {
      "displayName": "Cheonuk Park",
      "userId": "04341526218995438359"
     },
     "user_tz": -540
    },
    "id": "uFsnLiPrQPvR",
    "outputId": "8fdda8d8-71b1-45d9-9f1a-1de9e847cd92"
   },
   "outputs": [
    {
     "data": {
      "text/html": [
       "\n",
       "  <div id=\"df-89762d27-e442-48cf-a937-d747cea792ec\">\n",
       "    <div class=\"colab-df-container\">\n",
       "      <div>\n",
       "<style scoped>\n",
       "    .dataframe tbody tr th:only-of-type {\n",
       "        vertical-align: middle;\n",
       "    }\n",
       "\n",
       "    .dataframe tbody tr th {\n",
       "        vertical-align: top;\n",
       "    }\n",
       "\n",
       "    .dataframe thead th {\n",
       "        text-align: right;\n",
       "    }\n",
       "</style>\n",
       "<table border=\"1\" class=\"dataframe\">\n",
       "  <thead>\n",
       "    <tr style=\"text-align: right;\">\n",
       "      <th></th>\n",
       "      <th>Unnamed: 0.1</th>\n",
       "      <th>overall</th>\n",
       "      <th>unixReviewTime</th>\n",
       "      <th>Unnamed: 0</th>\n",
       "      <th>sum_len</th>\n",
       "      <th>review_len</th>\n",
       "    </tr>\n",
       "  </thead>\n",
       "  <tbody>\n",
       "    <tr>\n",
       "      <th>count</th>\n",
       "      <td>750000.000000</td>\n",
       "      <td>750000.000000</td>\n",
       "      <td>7.500000e+05</td>\n",
       "      <td>150000.000000</td>\n",
       "      <td>750000.000000</td>\n",
       "      <td>750000.000000</td>\n",
       "    </tr>\n",
       "    <tr>\n",
       "      <th>mean</th>\n",
       "      <td>74999.500000</td>\n",
       "      <td>4.258209</td>\n",
       "      <td>1.315978e+09</td>\n",
       "      <td>74999.500000</td>\n",
       "      <td>25.093951</td>\n",
       "      <td>586.764017</td>\n",
       "    </tr>\n",
       "    <tr>\n",
       "      <th>std</th>\n",
       "      <td>43301.299056</td>\n",
       "      <td>1.119716</td>\n",
       "      <td>9.755986e+07</td>\n",
       "      <td>43301.414527</td>\n",
       "      <td>15.686386</td>\n",
       "      <td>749.310407</td>\n",
       "    </tr>\n",
       "    <tr>\n",
       "      <th>min</th>\n",
       "      <td>0.000000</td>\n",
       "      <td>1.000000</td>\n",
       "      <td>8.507808e+08</td>\n",
       "      <td>0.000000</td>\n",
       "      <td>1.000000</td>\n",
       "      <td>2.000000</td>\n",
       "    </tr>\n",
       "    <tr>\n",
       "      <th>25%</th>\n",
       "      <td>37499.750000</td>\n",
       "      <td>4.000000</td>\n",
       "      <td>1.288310e+09</td>\n",
       "      <td>37499.750000</td>\n",
       "      <td>13.000000</td>\n",
       "      <td>180.000000</td>\n",
       "    </tr>\n",
       "    <tr>\n",
       "      <th>50%</th>\n",
       "      <td>74999.500000</td>\n",
       "      <td>5.000000</td>\n",
       "      <td>1.357517e+09</td>\n",
       "      <td>74999.500000</td>\n",
       "      <td>21.000000</td>\n",
       "      <td>341.000000</td>\n",
       "    </tr>\n",
       "    <tr>\n",
       "      <th>75%</th>\n",
       "      <td>112499.250000</td>\n",
       "      <td>5.000000</td>\n",
       "      <td>1.382400e+09</td>\n",
       "      <td>112499.250000</td>\n",
       "      <td>33.000000</td>\n",
       "      <td>689.000000</td>\n",
       "    </tr>\n",
       "    <tr>\n",
       "      <th>max</th>\n",
       "      <td>149999.000000</td>\n",
       "      <td>5.000000</td>\n",
       "      <td>1.406074e+09</td>\n",
       "      <td>149999.000000</td>\n",
       "      <td>173.000000</td>\n",
       "      <td>32623.000000</td>\n",
       "    </tr>\n",
       "  </tbody>\n",
       "</table>\n",
       "</div>\n",
       "      <button class=\"colab-df-convert\" onclick=\"convertToInteractive('df-89762d27-e442-48cf-a937-d747cea792ec')\"\n",
       "              title=\"Convert this dataframe to an interactive table.\"\n",
       "              style=\"display:none;\">\n",
       "        \n",
       "  <svg xmlns=\"http://www.w3.org/2000/svg\" height=\"24px\"viewBox=\"0 0 24 24\"\n",
       "       width=\"24px\">\n",
       "    <path d=\"M0 0h24v24H0V0z\" fill=\"none\"/>\n",
       "    <path d=\"M18.56 5.44l.94 2.06.94-2.06 2.06-.94-2.06-.94-.94-2.06-.94 2.06-2.06.94zm-11 1L8.5 8.5l.94-2.06 2.06-.94-2.06-.94L8.5 2.5l-.94 2.06-2.06.94zm10 10l.94 2.06.94-2.06 2.06-.94-2.06-.94-.94-2.06-.94 2.06-2.06.94z\"/><path d=\"M17.41 7.96l-1.37-1.37c-.4-.4-.92-.59-1.43-.59-.52 0-1.04.2-1.43.59L10.3 9.45l-7.72 7.72c-.78.78-.78 2.05 0 2.83L4 21.41c.39.39.9.59 1.41.59.51 0 1.02-.2 1.41-.59l7.78-7.78 2.81-2.81c.8-.78.8-2.07 0-2.86zM5.41 20L4 18.59l7.72-7.72 1.47 1.35L5.41 20z\"/>\n",
       "  </svg>\n",
       "      </button>\n",
       "      \n",
       "  <style>\n",
       "    .colab-df-container {\n",
       "      display:flex;\n",
       "      flex-wrap:wrap;\n",
       "      gap: 12px;\n",
       "    }\n",
       "\n",
       "    .colab-df-convert {\n",
       "      background-color: #E8F0FE;\n",
       "      border: none;\n",
       "      border-radius: 50%;\n",
       "      cursor: pointer;\n",
       "      display: none;\n",
       "      fill: #1967D2;\n",
       "      height: 32px;\n",
       "      padding: 0 0 0 0;\n",
       "      width: 32px;\n",
       "    }\n",
       "\n",
       "    .colab-df-convert:hover {\n",
       "      background-color: #E2EBFA;\n",
       "      box-shadow: 0px 1px 2px rgba(60, 64, 67, 0.3), 0px 1px 3px 1px rgba(60, 64, 67, 0.15);\n",
       "      fill: #174EA6;\n",
       "    }\n",
       "\n",
       "    [theme=dark] .colab-df-convert {\n",
       "      background-color: #3B4455;\n",
       "      fill: #D2E3FC;\n",
       "    }\n",
       "\n",
       "    [theme=dark] .colab-df-convert:hover {\n",
       "      background-color: #434B5C;\n",
       "      box-shadow: 0px 1px 3px 1px rgba(0, 0, 0, 0.15);\n",
       "      filter: drop-shadow(0px 1px 2px rgba(0, 0, 0, 0.3));\n",
       "      fill: #FFFFFF;\n",
       "    }\n",
       "  </style>\n",
       "\n",
       "      <script>\n",
       "        const buttonEl =\n",
       "          document.querySelector('#df-89762d27-e442-48cf-a937-d747cea792ec button.colab-df-convert');\n",
       "        buttonEl.style.display =\n",
       "          google.colab.kernel.accessAllowed ? 'block' : 'none';\n",
       "\n",
       "        async function convertToInteractive(key) {\n",
       "          const element = document.querySelector('#df-89762d27-e442-48cf-a937-d747cea792ec');\n",
       "          const dataTable =\n",
       "            await google.colab.kernel.invokeFunction('convertToInteractive',\n",
       "                                                     [key], {});\n",
       "          if (!dataTable) return;\n",
       "\n",
       "          const docLinkHtml = 'Like what you see? Visit the ' +\n",
       "            '<a target=\"_blank\" href=https://colab.research.google.com/notebooks/data_table.ipynb>data table notebook</a>'\n",
       "            + ' to learn more about interactive tables.';\n",
       "          element.innerHTML = '';\n",
       "          dataTable['output_type'] = 'display_data';\n",
       "          await google.colab.output.renderOutput(dataTable, element);\n",
       "          const docLink = document.createElement('div');\n",
       "          docLink.innerHTML = docLinkHtml;\n",
       "          element.appendChild(docLink);\n",
       "        }\n",
       "      </script>\n",
       "    </div>\n",
       "  </div>\n",
       "  "
      ],
      "text/plain": [
       "        Unnamed: 0.1        overall  unixReviewTime     Unnamed: 0  \\\n",
       "count  750000.000000  750000.000000    7.500000e+05  150000.000000   \n",
       "mean    74999.500000       4.258209    1.315978e+09   74999.500000   \n",
       "std     43301.299056       1.119716    9.755986e+07   43301.414527   \n",
       "min         0.000000       1.000000    8.507808e+08       0.000000   \n",
       "25%     37499.750000       4.000000    1.288310e+09   37499.750000   \n",
       "50%     74999.500000       5.000000    1.357517e+09   74999.500000   \n",
       "75%    112499.250000       5.000000    1.382400e+09  112499.250000   \n",
       "max    149999.000000       5.000000    1.406074e+09  149999.000000   \n",
       "\n",
       "             sum_len     review_len  \n",
       "count  750000.000000  750000.000000  \n",
       "mean       25.093951     586.764017  \n",
       "std        15.686386     749.310407  \n",
       "min         1.000000       2.000000  \n",
       "25%        13.000000     180.000000  \n",
       "50%        21.000000     341.000000  \n",
       "75%        33.000000     689.000000  \n",
       "max       173.000000   32623.000000  "
      ]
     },
     "execution_count": 18,
     "metadata": {},
     "output_type": "execute_result"
    }
   ],
   "source": [
    "df.describe()"
   ]
  },
  {
   "cell_type": "markdown",
   "metadata": {
    "id": "hVvIfVj5EKoN"
   },
   "source": [
    "#### Visualize len of reviewText"
   ]
  },
  {
   "cell_type": "code",
   "execution_count": 19,
   "metadata": {
    "colab": {
     "base_uri": "https://localhost:8080/",
     "height": 331
    },
    "executionInfo": {
     "elapsed": 7483,
     "status": "ok",
     "timestamp": 1679028440962,
     "user": {
      "displayName": "Cheonuk Park",
      "userId": "04341526218995438359"
     },
     "user_tz": -540
    },
    "id": "gNCDz-aRO4P2",
    "outputId": "1381abac-0134-4051-9127-3fa95cdb6b5a"
   },
   "outputs": [
    {
     "name": "stdout",
     "output_type": "stream",
     "text": [
      "reviewText max len : 32623\n",
      "reviewText min len : 2\n",
      "reviewText avg len : 586.7640173333333\n"
     ]
    },
    {
     "data": {
      "image/png": "[encoded data removed]",
      "text/plain": [
       "<Figure size 432x288 with 1 Axes>"
      ]
     },
     "metadata": {},
     "output_type": "display_data"
    }
   ],
   "source": [
    "import matplotlib.pyplot as plt\n",
    "\n",
    "print('reviewText max len :',max(len(l) for l in df.reviewText))\n",
    "print('reviewText min len :',min(len(l) for l in df.reviewText))\n",
    "print('reviewText avg len :',sum(map(len,df.reviewText))/len(df.reviewText))\n",
    "\n",
    "plt.hist([len(s) for s in df.reviewText], bins=50)\n",
    "plt.xlabel('length of reviewText')\n",
    "plt.ylabel('number of reviewText')\n",
    "plt.show()"
   ]
  },
  {
   "cell_type": "markdown",
   "metadata": {
    "id": "wAYPvo_6EcJN"
   },
   "source": [
    "#### Visualize len of summary"
   ]
  },
  {
   "cell_type": "code",
   "execution_count": 20,
   "metadata": {
    "colab": {
     "base_uri": "https://localhost:8080/",
     "height": 331
    },
    "executionInfo": {
     "elapsed": 11,
     "status": "ok",
     "timestamp": 1679028440963,
     "user": {
      "displayName": "Cheonuk Park",
      "userId": "04341526218995438359"
     },
     "user_tz": -540
    },
    "id": "BqFqqMALO4SO",
    "outputId": "d94f8382-ee83-424d-8e5e-1b077d6e6c47"
   },
   "outputs": [
    {
     "name": "stdout",
     "output_type": "stream",
     "text": [
      "summary max len : 173\n",
      "summary min len : 1\n",
      "summary avg len : 25.093950666666668\n"
     ]
    },
    {
     "data": {
      "image/png": "[encoded data removed]",
      "text/plain": [
       "<Figure size 432x288 with 1 Axes>"
      ]
     },
     "metadata": {},
     "output_type": "display_data"
    }
   ],
   "source": [
    "print('summary max len :',max(len(l) for l in df.summary))\n",
    "print('summary min len :',min(len(l) for l in df.summary))\n",
    "print('summary avg len :',sum(map(len,df.summary))/len(df.summary))\n",
    "\n",
    "plt.hist([len(s) for s in df.summary], bins=50)\n",
    "plt.xlabel('length of summary')\n",
    "plt.ylabel('number of summary')\n",
    "plt.show()"
   ]
  },
  {
   "cell_type": "markdown",
   "metadata": {
    "id": "wtCOULA5EqSO"
   },
   "source": [
    "## Dataset filtering by length\n",
    "### Consideration\n",
    "#### 1) Do you have a review_len above the right length to create a summary?\n",
    "#### 2) The summary is so short that the content/meaning is not reflected\n",
    "#### 3) Is the filtered dataset sufficient for model learning"
   ]
  },
  {
   "cell_type": "code",
   "execution_count": 21,
   "metadata": {
    "colab": {
     "background_save": true,
     "base_uri": "https://localhost:8080/",
     "height": 1000
    },
    "executionInfo": {
     "elapsed": 9,
     "status": "ok",
     "timestamp": 1679028441820,
     "user": {
      "displayName": "Cheonuk Park",
      "userId": "04341526218995438359"
     },
     "user_tz": -540
    },
    "id": "2sMqTTBDPLoS"
   },
   "outputs": [
    {
     "data": {
      "text/html": [
       "\n",
       "  <div id=\"df-b54ecceb-ff5a-43e7-8c20-6125f94ed4b3\">\n",
       "    <div class=\"colab-df-container\">\n",
       "      <div>\n",
       "<style scoped>\n",
       "    .dataframe tbody tr th:only-of-type {\n",
       "        vertical-align: middle;\n",
       "    }\n",
       "\n",
       "    .dataframe tbody tr th {\n",
       "        vertical-align: top;\n",
       "    }\n",
       "\n",
       "    .dataframe thead th {\n",
       "        text-align: right;\n",
       "    }\n",
       "</style>\n",
       "<table border=\"1\" class=\"dataframe\">\n",
       "  <thead>\n",
       "    <tr style=\"text-align: right;\">\n",
       "      <th></th>\n",
       "      <th>Unnamed: 0.1</th>\n",
       "      <th>reviewerID</th>\n",
       "      <th>asin</th>\n",
       "      <th>reviewerName</th>\n",
       "      <th>helpful</th>\n",
       "      <th>reviewText</th>\n",
       "      <th>overall</th>\n",
       "      <th>summary</th>\n",
       "      <th>unixReviewTime</th>\n",
       "      <th>reviewTime</th>\n",
       "      <th>category</th>\n",
       "      <th>Unnamed: 0</th>\n",
       "      <th>sum_len</th>\n",
       "      <th>review_len</th>\n",
       "    </tr>\n",
       "  </thead>\n",
       "  <tbody>\n",
       "    <tr>\n",
       "      <th>8</th>\n",
       "      <td>8</td>\n",
       "      <td>A2JDB26Y78TT8Z</td>\n",
       "      <td>4847676011</td>\n",
       "      <td>L. Miller \"LMinGA\"</td>\n",
       "      <td>[0, 0]</td>\n",
       "      <td>Works great and dog doesn't hate the taste.  G...</td>\n",
       "      <td>5</td>\n",
       "      <td>Brushing those teeth isn't so hard with this d...</td>\n",
       "      <td>1384819200</td>\n",
       "      <td>11 19, 2013</td>\n",
       "      <td>pet_supplies</td>\n",
       "      <td>NaN</td>\n",
       "      <td>59</td>\n",
       "      <td>111</td>\n",
       "    </tr>\n",
       "    <tr>\n",
       "      <th>135</th>\n",
       "      <td>135</td>\n",
       "      <td>A338IPFTZ5IDO1</td>\n",
       "      <td>B00005MF9W</td>\n",
       "      <td>N. morgan \"midwestern westerner\"</td>\n",
       "      <td>[0, 0]</td>\n",
       "      <td>Arrived timely and intact. Cant believe that t...</td>\n",
       "      <td>5</td>\n",
       "      <td>Cant believe that Littermaid is going out of b...</td>\n",
       "      <td>1363132800</td>\n",
       "      <td>03 13, 2013</td>\n",
       "      <td>pet_supplies</td>\n",
       "      <td>NaN</td>\n",
       "      <td>73</td>\n",
       "      <td>117</td>\n",
       "    </tr>\n",
       "    <tr>\n",
       "      <th>166</th>\n",
       "      <td>166</td>\n",
       "      <td>AWQ7P3YI8VSTK</td>\n",
       "      <td>B00005OMX6</td>\n",
       "      <td>Richard L. Ray</td>\n",
       "      <td>[0, 0]</td>\n",
       "      <td>Great toy, but toy will not last long with a p...</td>\n",
       "      <td>4</td>\n",
       "      <td>My pet is addicted to this toy, However toy is...</td>\n",
       "      <td>1360972800</td>\n",
       "      <td>02 16, 2013</td>\n",
       "      <td>pet_supplies</td>\n",
       "      <td>NaN</td>\n",
       "      <td>64</td>\n",
       "      <td>131</td>\n",
       "    </tr>\n",
       "    <tr>\n",
       "      <th>168</th>\n",
       "      <td>168</td>\n",
       "      <td>A1OY1L25KAVMK3</td>\n",
       "      <td>B00005OMX6</td>\n",
       "      <td>seachel</td>\n",
       "      <td>[0, 0]</td>\n",
       "      <td>I bought this ball for my blind dog.  Unfortun...</td>\n",
       "      <td>3</td>\n",
       "      <td>Not really useful for what I wanted it for</td>\n",
       "      <td>1395705600</td>\n",
       "      <td>03 25, 2014</td>\n",
       "      <td>pet_supplies</td>\n",
       "      <td>NaN</td>\n",
       "      <td>42</td>\n",
       "      <td>122</td>\n",
       "    </tr>\n",
       "    <tr>\n",
       "      <th>256</th>\n",
       "      <td>256</td>\n",
       "      <td>A38QGYD1IR0U5X</td>\n",
       "      <td>B000062WUT</td>\n",
       "      <td>toysforfun</td>\n",
       "      <td>[0, 0]</td>\n",
       "      <td>my puppy went crazy for Mr Bill when I gave it...</td>\n",
       "      <td>5</td>\n",
       "      <td>super cute and my puppy's favorite doy</td>\n",
       "      <td>1270252800</td>\n",
       "      <td>04 3, 2010</td>\n",
       "      <td>pet_supplies</td>\n",
       "      <td>NaN</td>\n",
       "      <td>38</td>\n",
       "      <td>169</td>\n",
       "    </tr>\n",
       "    <tr>\n",
       "      <th>...</th>\n",
       "      <td>...</td>\n",
       "      <td>...</td>\n",
       "      <td>...</td>\n",
       "      <td>...</td>\n",
       "      <td>...</td>\n",
       "      <td>...</td>\n",
       "      <td>...</td>\n",
       "      <td>...</td>\n",
       "      <td>...</td>\n",
       "      <td>...</td>\n",
       "      <td>...</td>\n",
       "      <td>...</td>\n",
       "      <td>...</td>\n",
       "      <td>...</td>\n",
       "    </tr>\n",
       "    <tr>\n",
       "      <th>749768</th>\n",
       "      <td>149768</td>\n",
       "      <td>ACH3XM6K1M4AK</td>\n",
       "      <td>0060766123</td>\n",
       "      <td>L. Jonsson</td>\n",
       "      <td>[6, 8]</td>\n",
       "      <td>Don't read Amber's or Anne's, just read this o...</td>\n",
       "      <td>5</td>\n",
       "      <td>The best book written on the Peterson case</td>\n",
       "      <td>1115251200</td>\n",
       "      <td>05 5, 2005</td>\n",
       "      <td>book</td>\n",
       "      <td>149768.0</td>\n",
       "      <td>42</td>\n",
       "      <td>134</td>\n",
       "    </tr>\n",
       "    <tr>\n",
       "      <th>749866</th>\n",
       "      <td>149866</td>\n",
       "      <td>A3F8VWGPDNA0DR</td>\n",
       "      <td>0060766204</td>\n",
       "      <td>Matthew nolen</td>\n",
       "      <td>[0, 0]</td>\n",
       "      <td>Just to good of a book this is my 2nd time rea...</td>\n",
       "      <td>5</td>\n",
       "      <td>Awesome better than all other books I've read</td>\n",
       "      <td>1368144000</td>\n",
       "      <td>05 10, 2013</td>\n",
       "      <td>book</td>\n",
       "      <td>149866.0</td>\n",
       "      <td>45</td>\n",
       "      <td>92</td>\n",
       "    </tr>\n",
       "    <tr>\n",
       "      <th>749965</th>\n",
       "      <td>149965</td>\n",
       "      <td>A1DL4CWZNPJQCY</td>\n",
       "      <td>0060766328</td>\n",
       "      <td>Devoted Reader</td>\n",
       "      <td>[0, 0]</td>\n",
       "      <td>It just didn't work. Grammar, spelling, proofi...</td>\n",
       "      <td>3</td>\n",
       "      <td>lots of detail, much interesting material but ...</td>\n",
       "      <td>1397520000</td>\n",
       "      <td>04 15, 2014</td>\n",
       "      <td>book</td>\n",
       "      <td>149965.0</td>\n",
       "      <td>63</td>\n",
       "      <td>134</td>\n",
       "    </tr>\n",
       "    <tr>\n",
       "      <th>749968</th>\n",
       "      <td>149968</td>\n",
       "      <td>A1NA4OG2O17MT7</td>\n",
       "      <td>0060766328</td>\n",
       "      <td>Eric</td>\n",
       "      <td>[0, 0]</td>\n",
       "      <td>Reading yet another book about the terrible ju...</td>\n",
       "      <td>5</td>\n",
       "      <td>Another Screwy and horrible American justice s...</td>\n",
       "      <td>1394323200</td>\n",
       "      <td>03 9, 2014</td>\n",
       "      <td>book</td>\n",
       "      <td>149968.0</td>\n",
       "      <td>61</td>\n",
       "      <td>166</td>\n",
       "    </tr>\n",
       "    <tr>\n",
       "      <th>749998</th>\n",
       "      <td>149998</td>\n",
       "      <td>A36PMYEJBQ6JYI</td>\n",
       "      <td>0060766832</td>\n",
       "      <td>William Jones \"L.B.\"</td>\n",
       "      <td>[0, 0]</td>\n",
       "      <td>A humored approach to a subject we all don't w...</td>\n",
       "      <td>3</td>\n",
       "      <td>A Good Book on Ways of Death and Burial</td>\n",
       "      <td>1386806400</td>\n",
       "      <td>12 12, 2013</td>\n",
       "      <td>book</td>\n",
       "      <td>149998.0</td>\n",
       "      <td>39</td>\n",
       "      <td>160</td>\n",
       "    </tr>\n",
       "  </tbody>\n",
       "</table>\n",
       "<p>21017 rows × 14 columns</p>\n",
       "</div>\n",
       "      <button class=\"colab-df-convert\" onclick=\"convertToInteractive('df-b54ecceb-ff5a-43e7-8c20-6125f94ed4b3')\"\n",
       "              title=\"Convert this dataframe to an interactive table.\"\n",
       "              style=\"display:none;\">\n",
       "        \n",
       "  <svg xmlns=\"http://www.w3.org/2000/svg\" height=\"24px\"viewBox=\"0 0 24 24\"\n",
       "       width=\"24px\">\n",
       "    <path d=\"M0 0h24v24H0V0z\" fill=\"none\"/>\n",
       "    <path d=\"M18.56 5.44l.94 2.06.94-2.06 2.06-.94-2.06-.94-.94-2.06-.94 2.06-2.06.94zm-11 1L8.5 8.5l.94-2.06 2.06-.94-2.06-.94L8.5 2.5l-.94 2.06-2.06.94zm10 10l.94 2.06.94-2.06 2.06-.94-2.06-.94-.94-2.06-.94 2.06-2.06.94z\"/><path d=\"M17.41 7.96l-1.37-1.37c-.4-.4-.92-.59-1.43-.59-.52 0-1.04.2-1.43.59L10.3 9.45l-7.72 7.72c-.78.78-.78 2.05 0 2.83L4 21.41c.39.39.9.59 1.41.59.51 0 1.02-.2 1.41-.59l7.78-7.78 2.81-2.81c.8-.78.8-2.07 0-2.86zM5.41 20L4 18.59l7.72-7.72 1.47 1.35L5.41 20z\"/>\n",
       "  </svg>\n",
       "      </button>\n",
       "      \n",
       "  <style>\n",
       "    .colab-df-container {\n",
       "      display:flex;\n",
       "      flex-wrap:wrap;\n",
       "      gap: 12px;\n",
       "    }\n",
       "\n",
       "    .colab-df-convert {\n",
       "      background-color: #E8F0FE;\n",
       "      border: none;\n",
       "      border-radius: 50%;\n",
       "      cursor: pointer;\n",
       "      display: none;\n",
       "      fill: #1967D2;\n",
       "      height: 32px;\n",
       "      padding: 0 0 0 0;\n",
       "      width: 32px;\n",
       "    }\n",
       "\n",
       "    .colab-df-convert:hover {\n",
       "      background-color: #E2EBFA;\n",
       "      box-shadow: 0px 1px 2px rgba(60, 64, 67, 0.3), 0px 1px 3px 1px rgba(60, 64, 67, 0.15);\n",
       "      fill: #174EA6;\n",
       "    }\n",
       "\n",
       "    [theme=dark] .colab-df-convert {\n",
       "      background-color: #3B4455;\n",
       "      fill: #D2E3FC;\n",
       "    }\n",
       "\n",
       "    [theme=dark] .colab-df-convert:hover {\n",
       "      background-color: #434B5C;\n",
       "      box-shadow: 0px 1px 3px 1px rgba(0, 0, 0, 0.15);\n",
       "      filter: drop-shadow(0px 1px 2px rgba(0, 0, 0, 0.3));\n",
       "      fill: #FFFFFF;\n",
       "    }\n",
       "  </style>\n",
       "\n",
       "      <script>\n",
       "        const buttonEl =\n",
       "          document.querySelector('#df-b54ecceb-ff5a-43e7-8c20-6125f94ed4b3 button.colab-df-convert');\n",
       "        buttonEl.style.display =\n",
       "          google.colab.kernel.accessAllowed ? 'block' : 'none';\n",
       "\n",
       "        async function convertToInteractive(key) {\n",
       "          const element = document.querySelector('#df-b54ecceb-ff5a-43e7-8c20-6125f94ed4b3');\n",
       "          const dataTable =\n",
       "            await google.colab.kernel.invokeFunction('convertToInteractive',\n",
       "                                                     [key], {});\n",
       "          if (!dataTable) return;\n",
       "\n",
       "          const docLinkHtml = 'Like what you see? Visit the ' +\n",
       "            '<a target=\"_blank\" href=https://colab.research.google.com/notebooks/data_table.ipynb>data table notebook</a>'\n",
       "            + ' to learn more about interactive tables.';\n",
       "          element.innerHTML = '';\n",
       "          dataTable['output_type'] = 'display_data';\n",
       "          await google.colab.output.renderOutput(dataTable, element);\n",
       "          const docLink = document.createElement('div');\n",
       "          docLink.innerHTML = docLinkHtml;\n",
       "          element.appendChild(docLink);\n",
       "        }\n",
       "      </script>\n",
       "    </div>\n",
       "  </div>\n",
       "  "
      ],
      "text/plain": [
       "        Unnamed: 0.1      reviewerID        asin  \\\n",
       "8                  8  A2JDB26Y78TT8Z  4847676011   \n",
       "135              135  A338IPFTZ5IDO1  B00005MF9W   \n",
       "166              166   AWQ7P3YI8VSTK  B00005OMX6   \n",
       "168              168  A1OY1L25KAVMK3  B00005OMX6   \n",
       "256              256  A38QGYD1IR0U5X  B000062WUT   \n",
       "...              ...             ...         ...   \n",
       "749768        149768   ACH3XM6K1M4AK  0060766123   \n",
       "749866        149866  A3F8VWGPDNA0DR  0060766204   \n",
       "749965        149965  A1DL4CWZNPJQCY  0060766328   \n",
       "749968        149968  A1NA4OG2O17MT7  0060766328   \n",
       "749998        149998  A36PMYEJBQ6JYI  0060766832   \n",
       "\n",
       "                            reviewerName helpful  \\\n",
       "8                     L. Miller \"LMinGA\"  [0, 0]   \n",
       "135     N. morgan \"midwestern westerner\"  [0, 0]   \n",
       "166                       Richard L. Ray  [0, 0]   \n",
       "168                              seachel  [0, 0]   \n",
       "256                           toysforfun  [0, 0]   \n",
       "...                                  ...     ...   \n",
       "749768                        L. Jonsson  [6, 8]   \n",
       "749866                     Matthew nolen  [0, 0]   \n",
       "749965                    Devoted Reader  [0, 0]   \n",
       "749968                              Eric  [0, 0]   \n",
       "749998              William Jones \"L.B.\"  [0, 0]   \n",
       "\n",
       "                                               reviewText  overall  \\\n",
       "8       Works great and dog doesn't hate the taste.  G...        5   \n",
       "135     Arrived timely and intact. Cant believe that t...        5   \n",
       "166     Great toy, but toy will not last long with a p...        4   \n",
       "168     I bought this ball for my blind dog.  Unfortun...        3   \n",
       "256     my puppy went crazy for Mr Bill when I gave it...        5   \n",
       "...                                                   ...      ...   \n",
       "749768  Don't read Amber's or Anne's, just read this o...        5   \n",
       "749866  Just to good of a book this is my 2nd time rea...        5   \n",
       "749965  It just didn't work. Grammar, spelling, proofi...        3   \n",
       "749968  Reading yet another book about the terrible ju...        5   \n",
       "749998  A humored approach to a subject we all don't w...        3   \n",
       "\n",
       "                                                  summary  unixReviewTime  \\\n",
       "8       Brushing those teeth isn't so hard with this d...      1384819200   \n",
       "135     Cant believe that Littermaid is going out of b...      1363132800   \n",
       "166     My pet is addicted to this toy, However toy is...      1360972800   \n",
       "168            Not really useful for what I wanted it for      1395705600   \n",
       "256                super cute and my puppy's favorite doy      1270252800   \n",
       "...                                                   ...             ...   \n",
       "749768         The best book written on the Peterson case      1115251200   \n",
       "749866      Awesome better than all other books I've read      1368144000   \n",
       "749965  lots of detail, much interesting material but ...      1397520000   \n",
       "749968  Another Screwy and horrible American justice s...      1394323200   \n",
       "749998            A Good Book on Ways of Death and Burial      1386806400   \n",
       "\n",
       "         reviewTime      category  Unnamed: 0  sum_len  review_len  \n",
       "8       11 19, 2013  pet_supplies         NaN       59         111  \n",
       "135     03 13, 2013  pet_supplies         NaN       73         117  \n",
       "166     02 16, 2013  pet_supplies         NaN       64         131  \n",
       "168     03 25, 2014  pet_supplies         NaN       42         122  \n",
       "256      04 3, 2010  pet_supplies         NaN       38         169  \n",
       "...             ...           ...         ...      ...         ...  \n",
       "749768   05 5, 2005          book    149768.0       42         134  \n",
       "749866  05 10, 2013          book    149866.0       45          92  \n",
       "749965  04 15, 2014          book    149965.0       63         134  \n",
       "749968   03 9, 2014          book    149968.0       61         166  \n",
       "749998  12 12, 2013          book    149998.0       39         160  \n",
       "\n",
       "[21017 rows x 14 columns]"
      ]
     },
     "execution_count": 21,
     "metadata": {},
     "output_type": "execute_result"
    }
   ],
   "source": [
    "# summary len >= 33     <- 75%\n",
    "# reviewtext len <= 180 <- 15% \n",
    "# reviewtext len >= 75  \n",
    "df = df[df['sum_len'] >= 33]\n",
    "df = df[df['review_len'] <= 180]\n",
    "df = df[df['review_len'] >= 75]\n",
    "\n",
    "df"
   ]
  },
  {
   "cell_type": "markdown",
   "metadata": {
    "id": "uAgjK8mmFd7s"
   },
   "source": [
    "#### Check the filtered Data"
   ]
  },
  {
   "cell_type": "code",
   "execution_count": 12,
   "metadata": {
    "colab": {
     "base_uri": "https://localhost:8080/"
    },
    "executionInfo": {
     "elapsed": 5,
     "status": "ok",
     "timestamp": 1679028353736,
     "user": {
      "displayName": "Cheonuk Park",
      "userId": "04341526218995438359"
     },
     "user_tz": -540
    },
    "id": "oKmlkBT-PLqR",
    "outputId": "93064a3f-213f-4e44-dc56-4daab13a677b"
   },
   "outputs": [
    {
     "data": {
      "text/plain": [
       "[\"Works great and dog doesn't hate the taste.  Gum health is important so just have to brush those pearly whites.\",\n",
       " \"Very Happy with this bird food holder...Heath Manufacturing S-1-8 Single Hanging Suet Feeder...4.98 each I bought two...I of course bout the special square bird food also...I'm new at this and am having a blast...what a cool way to feed birds and a great addition to my  bird feeder!\",\n",
       " \"The feeder itself is just fine.  No better or worse than similar suet feeders I've tried.  Unfortunately, after less than three months, the chain is already rusted.  For that reason, I wouldn't purchase it again.\",\n",
       " 'Cosamin DS Joint Health Supplement is far superior to any other supplements of this nature that I have tried.  My doctor recommended it highly, and I have been on it for a couple of years, and can really tell a difference!',\n",
       " 'I have been using these supplements for a few years, with them my joints are somewhat tolerable but without them my joints are impossible.  For me, they are a requirement so that I can function day-to-day.']"
      ]
     },
     "execution_count": 12,
     "metadata": {},
     "output_type": "execute_result"
    }
   ],
   "source": [
    "list(df['reviewText'])[:5]"
   ]
  },
  {
   "cell_type": "code",
   "execution_count": 13,
   "metadata": {
    "colab": {
     "base_uri": "https://localhost:8080/"
    },
    "executionInfo": {
     "elapsed": 4,
     "status": "ok",
     "timestamp": 1679028354281,
     "user": {
      "displayName": "Cheonuk Park",
      "userId": "04341526218995438359"
     },
     "user_tz": -540
    },
    "id": "uXEYqkVMO4Ue",
    "outputId": "88f94ba9-5e0f-4c30-b91a-c04a31f25a67"
   },
   "outputs": [
    {
     "data": {
      "text/plain": [
       "[\"Brushing those teeth isn't so hard with this dog toothpaste\",\n",
       " 'Very Happy with this bird food holder...',\n",
       " 'After a Short Time - Chain is Rusted',\n",
       " 'The best joint health supplement around!',\n",
       " 'Good buy considering retail store prices...']"
      ]
     },
     "execution_count": 13,
     "metadata": {},
     "output_type": "execute_result"
    }
   ],
   "source": [
    "list(df['summary'])[:5]"
   ]
  },
  {
   "cell_type": "markdown",
   "metadata": {
    "id": "Mn1GhG6fF5lW"
   },
   "source": [
    "#### shuffle & column filtering"
   ]
  },
  {
   "cell_type": "code",
   "execution_count": 14,
   "metadata": {
    "colab": {
     "base_uri": "https://localhost:8080/",
     "height": 206
    },
    "executionInfo": {
     "elapsed": 7,
     "status": "ok",
     "timestamp": 1679028378893,
     "user": {
      "displayName": "Cheonuk Park",
      "userId": "04341526218995438359"
     },
     "user_tz": -540
    },
    "id": "WmkzzWQ2J2IS",
    "outputId": "6b958196-449d-4e61-febc-9fc1d4e46f1f"
   },
   "outputs": [
    {
     "data": {
      "text/html": [
       "\n",
       "  <div id=\"df-b0d8494b-469b-43cd-b9c5-46c5009c103c\">\n",
       "    <div class=\"colab-df-container\">\n",
       "      <div>\n",
       "<style scoped>\n",
       "    .dataframe tbody tr th:only-of-type {\n",
       "        vertical-align: middle;\n",
       "    }\n",
       "\n",
       "    .dataframe tbody tr th {\n",
       "        vertical-align: top;\n",
       "    }\n",
       "\n",
       "    .dataframe thead th {\n",
       "        text-align: right;\n",
       "    }\n",
       "</style>\n",
       "<table border=\"1\" class=\"dataframe\">\n",
       "  <thead>\n",
       "    <tr style=\"text-align: right;\">\n",
       "      <th></th>\n",
       "      <th>summary</th>\n",
       "      <th>reviewText</th>\n",
       "    </tr>\n",
       "  </thead>\n",
       "  <tbody>\n",
       "    <tr>\n",
       "      <th>0</th>\n",
       "      <td>worked but hoped it would last longer</td>\n",
       "      <td>My other (cheaper) fob batteries tend to last ...</td>\n",
       "    </tr>\n",
       "    <tr>\n",
       "      <th>1</th>\n",
       "      <td>Highly Recommended by othe Real Estate Investors.</td>\n",
       "      <td>I haven't had the opportunity to read it yet b...</td>\n",
       "    </tr>\n",
       "    <tr>\n",
       "      <th>2</th>\n",
       "      <td>it's  a  good  tube  for  playing</td>\n",
       "      <td>it blends  in ,,  just easy  to  store  and  c...</td>\n",
       "    </tr>\n",
       "    <tr>\n",
       "      <th>3</th>\n",
       "      <td>Seems a tad large and water bottles are brittl...</td>\n",
       "      <td>The medium seems a tad large on my 63 lb tall,...</td>\n",
       "    </tr>\n",
       "    <tr>\n",
       "      <th>4</th>\n",
       "      <td>Lots of other great Herbs as part of the ingre...</td>\n",
       "      <td>I put this on all my cooking for the curcumin ...</td>\n",
       "    </tr>\n",
       "  </tbody>\n",
       "</table>\n",
       "</div>\n",
       "      <button class=\"colab-df-convert\" onclick=\"convertToInteractive('df-b0d8494b-469b-43cd-b9c5-46c5009c103c')\"\n",
       "              title=\"Convert this dataframe to an interactive table.\"\n",
       "              style=\"display:none;\">\n",
       "        \n",
       "  <svg xmlns=\"http://www.w3.org/2000/svg\" height=\"24px\"viewBox=\"0 0 24 24\"\n",
       "       width=\"24px\">\n",
       "    <path d=\"M0 0h24v24H0V0z\" fill=\"none\"/>\n",
       "    <path d=\"M18.56 5.44l.94 2.06.94-2.06 2.06-.94-2.06-.94-.94-2.06-.94 2.06-2.06.94zm-11 1L8.5 8.5l.94-2.06 2.06-.94-2.06-.94L8.5 2.5l-.94 2.06-2.06.94zm10 10l.94 2.06.94-2.06 2.06-.94-2.06-.94-.94-2.06-.94 2.06-2.06.94z\"/><path d=\"M17.41 7.96l-1.37-1.37c-.4-.4-.92-.59-1.43-.59-.52 0-1.04.2-1.43.59L10.3 9.45l-7.72 7.72c-.78.78-.78 2.05 0 2.83L4 21.41c.39.39.9.59 1.41.59.51 0 1.02-.2 1.41-.59l7.78-7.78 2.81-2.81c.8-.78.8-2.07 0-2.86zM5.41 20L4 18.59l7.72-7.72 1.47 1.35L5.41 20z\"/>\n",
       "  </svg>\n",
       "      </button>\n",
       "      \n",
       "  <style>\n",
       "    .colab-df-container {\n",
       "      display:flex;\n",
       "      flex-wrap:wrap;\n",
       "      gap: 12px;\n",
       "    }\n",
       "\n",
       "    .colab-df-convert {\n",
       "      background-color: #E8F0FE;\n",
       "      border: none;\n",
       "      border-radius: 50%;\n",
       "      cursor: pointer;\n",
       "      display: none;\n",
       "      fill: #1967D2;\n",
       "      height: 32px;\n",
       "      padding: 0 0 0 0;\n",
       "      width: 32px;\n",
       "    }\n",
       "\n",
       "    .colab-df-convert:hover {\n",
       "      background-color: #E2EBFA;\n",
       "      box-shadow: 0px 1px 2px rgba(60, 64, 67, 0.3), 0px 1px 3px 1px rgba(60, 64, 67, 0.15);\n",
       "      fill: #174EA6;\n",
       "    }\n",
       "\n",
       "    [theme=dark] .colab-df-convert {\n",
       "      background-color: #3B4455;\n",
       "      fill: #D2E3FC;\n",
       "    }\n",
       "\n",
       "    [theme=dark] .colab-df-convert:hover {\n",
       "      background-color: #434B5C;\n",
       "      box-shadow: 0px 1px 3px 1px rgba(0, 0, 0, 0.15);\n",
       "      filter: drop-shadow(0px 1px 2px rgba(0, 0, 0, 0.3));\n",
       "      fill: #FFFFFF;\n",
       "    }\n",
       "  </style>\n",
       "\n",
       "      <script>\n",
       "        const buttonEl =\n",
       "          document.querySelector('#df-b0d8494b-469b-43cd-b9c5-46c5009c103c button.colab-df-convert');\n",
       "        buttonEl.style.display =\n",
       "          google.colab.kernel.accessAllowed ? 'block' : 'none';\n",
       "\n",
       "        async function convertToInteractive(key) {\n",
       "          const element = document.querySelector('#df-b0d8494b-469b-43cd-b9c5-46c5009c103c');\n",
       "          const dataTable =\n",
       "            await google.colab.kernel.invokeFunction('convertToInteractive',\n",
       "                                                     [key], {});\n",
       "          if (!dataTable) return;\n",
       "\n",
       "          const docLinkHtml = 'Like what you see? Visit the ' +\n",
       "            '<a target=\"_blank\" href=https://colab.research.google.com/notebooks/data_table.ipynb>data table notebook</a>'\n",
       "            + ' to learn more about interactive tables.';\n",
       "          element.innerHTML = '';\n",
       "          dataTable['output_type'] = 'display_data';\n",
       "          await google.colab.output.renderOutput(dataTable, element);\n",
       "          const docLink = document.createElement('div');\n",
       "          docLink.innerHTML = docLinkHtml;\n",
       "          element.appendChild(docLink);\n",
       "        }\n",
       "      </script>\n",
       "    </div>\n",
       "  </div>\n",
       "  "
      ],
      "text/plain": [
       "                                             summary  \\\n",
       "0              worked but hoped it would last longer   \n",
       "1  Highly Recommended by othe Real Estate Investors.   \n",
       "2                  it's  a  good  tube  for  playing   \n",
       "3  Seems a tad large and water bottles are brittl...   \n",
       "4  Lots of other great Herbs as part of the ingre...   \n",
       "\n",
       "                                          reviewText  \n",
       "0  My other (cheaper) fob batteries tend to last ...  \n",
       "1  I haven't had the opportunity to read it yet b...  \n",
       "2  it blends  in ,,  just easy  to  store  and  c...  \n",
       "3  The medium seems a tad large on my 63 lb tall,...  \n",
       "4  I put this on all my cooking for the curcumin ...  "
      ]
     },
     "execution_count": 14,
     "metadata": {},
     "output_type": "execute_result"
    }
   ],
   "source": [
    "df = df.sample(frac=1).reset_index(drop=True)  \n",
    "df = df[['summary','reviewText']]\n",
    "df.head()"
   ]
  },
  {
   "cell_type": "markdown",
   "metadata": {
    "id": "wi3nX_FLF-rk"
   },
   "source": [
    "#### Train & Test set split\n",
    "column name changing"
   ]
  },
  {
   "cell_type": "code",
   "execution_count": null,
   "metadata": {
    "colab": {
     "base_uri": "https://localhost:8080/",
     "height": 206
    },
    "executionInfo": {
     "elapsed": 6,
     "status": "ok",
     "timestamp": 1679027234494,
     "user": {
      "displayName": "Cheonuk Park",
      "userId": "04341526218995438359"
     },
     "user_tz": -540
    },
    "id": "qUS-x0eVKtzi",
    "outputId": "be71e19f-28f9-4b7d-fc66-b8c2c5acbd7d"
   },
   "outputs": [
    {
     "data": {
      "text/html": [
       "\n",
       "  <div id=\"df-1d94d457-d277-4448-b4a6-30c3af9a9a16\">\n",
       "    <div class=\"colab-df-container\">\n",
       "      <div>\n",
       "<style scoped>\n",
       "    .dataframe tbody tr th:only-of-type {\n",
       "        vertical-align: middle;\n",
       "    }\n",
       "\n",
       "    .dataframe tbody tr th {\n",
       "        vertical-align: top;\n",
       "    }\n",
       "\n",
       "    .dataframe thead th {\n",
       "        text-align: right;\n",
       "    }\n",
       "</style>\n",
       "<table border=\"1\" class=\"dataframe\">\n",
       "  <thead>\n",
       "    <tr style=\"text-align: right;\">\n",
       "      <th></th>\n",
       "      <th>news</th>\n",
       "      <th>summary</th>\n",
       "    </tr>\n",
       "  </thead>\n",
       "  <tbody>\n",
       "    <tr>\n",
       "      <th>1534</th>\n",
       "      <td>excellent quality starter.  Il'l be using this...</td>\n",
       "      <td>Perfect for my bug out bag and just general ca...</td>\n",
       "    </tr>\n",
       "    <tr>\n",
       "      <th>8598</th>\n",
       "      <td>I bought this book to see what &amp;#34;the other ...</td>\n",
       "      <td>Sins of Scripture, a liberal view.</td>\n",
       "    </tr>\n",
       "    <tr>\n",
       "      <th>7451</th>\n",
       "      <td>Listen, you chocoholics.  This is a great pric...</td>\n",
       "      <td>Attention all Chocoholics! This is your candy ...</td>\n",
       "    </tr>\n",
       "    <tr>\n",
       "      <th>12551</th>\n",
       "      <td>Wonderful learning of the diversity of the peo...</td>\n",
       "      <td>Israel's 55th Paratrooper Division</td>\n",
       "    </tr>\n",
       "    <tr>\n",
       "      <th>12084</th>\n",
       "      <td>They love it and you cant hurt anything with i...</td>\n",
       "      <td>Dang kids keep nailing me with it when Im not ...</td>\n",
       "    </tr>\n",
       "  </tbody>\n",
       "</table>\n",
       "</div>\n",
       "      <button class=\"colab-df-convert\" onclick=\"convertToInteractive('df-1d94d457-d277-4448-b4a6-30c3af9a9a16')\"\n",
       "              title=\"Convert this dataframe to an interactive table.\"\n",
       "              style=\"display:none;\">\n",
       "        \n",
       "  <svg xmlns=\"http://www.w3.org/2000/svg\" height=\"24px\"viewBox=\"0 0 24 24\"\n",
       "       width=\"24px\">\n",
       "    <path d=\"M0 0h24v24H0V0z\" fill=\"none\"/>\n",
       "    <path d=\"M18.56 5.44l.94 2.06.94-2.06 2.06-.94-2.06-.94-.94-2.06-.94 2.06-2.06.94zm-11 1L8.5 8.5l.94-2.06 2.06-.94-2.06-.94L8.5 2.5l-.94 2.06-2.06.94zm10 10l.94 2.06.94-2.06 2.06-.94-2.06-.94-.94-2.06-.94 2.06-2.06.94z\"/><path d=\"M17.41 7.96l-1.37-1.37c-.4-.4-.92-.59-1.43-.59-.52 0-1.04.2-1.43.59L10.3 9.45l-7.72 7.72c-.78.78-.78 2.05 0 2.83L4 21.41c.39.39.9.59 1.41.59.51 0 1.02-.2 1.41-.59l7.78-7.78 2.81-2.81c.8-.78.8-2.07 0-2.86zM5.41 20L4 18.59l7.72-7.72 1.47 1.35L5.41 20z\"/>\n",
       "  </svg>\n",
       "      </button>\n",
       "      \n",
       "  <style>\n",
       "    .colab-df-container {\n",
       "      display:flex;\n",
       "      flex-wrap:wrap;\n",
       "      gap: 12px;\n",
       "    }\n",
       "\n",
       "    .colab-df-convert {\n",
       "      background-color: #E8F0FE;\n",
       "      border: none;\n",
       "      border-radius: 50%;\n",
       "      cursor: pointer;\n",
       "      display: none;\n",
       "      fill: #1967D2;\n",
       "      height: 32px;\n",
       "      padding: 0 0 0 0;\n",
       "      width: 32px;\n",
       "    }\n",
       "\n",
       "    .colab-df-convert:hover {\n",
       "      background-color: #E2EBFA;\n",
       "      box-shadow: 0px 1px 2px rgba(60, 64, 67, 0.3), 0px 1px 3px 1px rgba(60, 64, 67, 0.15);\n",
       "      fill: #174EA6;\n",
       "    }\n",
       "\n",
       "    [theme=dark] .colab-df-convert {\n",
       "      background-color: #3B4455;\n",
       "      fill: #D2E3FC;\n",
       "    }\n",
       "\n",
       "    [theme=dark] .colab-df-convert:hover {\n",
       "      background-color: #434B5C;\n",
       "      box-shadow: 0px 1px 3px 1px rgba(0, 0, 0, 0.15);\n",
       "      filter: drop-shadow(0px 1px 2px rgba(0, 0, 0, 0.3));\n",
       "      fill: #FFFFFF;\n",
       "    }\n",
       "  </style>\n",
       "\n",
       "      <script>\n",
       "        const buttonEl =\n",
       "          document.querySelector('#df-1d94d457-d277-4448-b4a6-30c3af9a9a16 button.colab-df-convert');\n",
       "        buttonEl.style.display =\n",
       "          google.colab.kernel.accessAllowed ? 'block' : 'none';\n",
       "\n",
       "        async function convertToInteractive(key) {\n",
       "          const element = document.querySelector('#df-1d94d457-d277-4448-b4a6-30c3af9a9a16');\n",
       "          const dataTable =\n",
       "            await google.colab.kernel.invokeFunction('convertToInteractive',\n",
       "                                                     [key], {});\n",
       "          if (!dataTable) return;\n",
       "\n",
       "          const docLinkHtml = 'Like what you see? Visit the ' +\n",
       "            '<a target=\"_blank\" href=https://colab.research.google.com/notebooks/data_table.ipynb>data table notebook</a>'\n",
       "            + ' to learn more about interactive tables.';\n",
       "          element.innerHTML = '';\n",
       "          dataTable['output_type'] = 'display_data';\n",
       "          await google.colab.output.renderOutput(dataTable, element);\n",
       "          const docLink = document.createElement('div');\n",
       "          docLink.innerHTML = docLinkHtml;\n",
       "          element.appendChild(docLink);\n",
       "        }\n",
       "      </script>\n",
       "    </div>\n",
       "  </div>\n",
       "  "
      ],
      "text/plain": [
       "                                                    news  \\\n",
       "1534   excellent quality starter.  Il'l be using this...   \n",
       "8598   I bought this book to see what &#34;the other ...   \n",
       "7451   Listen, you chocoholics.  This is a great pric...   \n",
       "12551  Wonderful learning of the diversity of the peo...   \n",
       "12084  They love it and you cant hurt anything with i...   \n",
       "\n",
       "                                                 summary  \n",
       "1534   Perfect for my bug out bag and just general ca...  \n",
       "8598                  Sins of Scripture, a liberal view.  \n",
       "7451   Attention all Chocoholics! This is your candy ...  \n",
       "12551                 Israel's 55th Paratrooper Division  \n",
       "12084  Dang kids keep nailing me with it when Im not ...  "
      ]
     },
     "execution_count": 50,
     "metadata": {},
     "output_type": "execute_result"
    }
   ],
   "source": [
    "df_train = df[:20000].reset_index(drop=True)  \n",
    "df_test = df[20000:].reset_index(drop=True)  \n",
    "\n",
    "df_train = df_train[['reviewText', 'summary']]\n",
    "df_train.columns = ['news', 'summary']\n",
    "\n",
    "df_test = df_test[['reviewText', 'summary']]\n",
    "df_test.columns = ['news', 'summary']\n",
    "\n",
    "df_train.sample(5)"
   ]
  },
  {
   "cell_type": "markdown",
   "metadata": {
    "id": "03Qy15QGGLbG"
   },
   "source": [
    "#### Cleaning Texts with regex"
   ]
  },
  {
   "cell_type": "code",
   "execution_count": null,
   "metadata": {
    "id": "zyHYR0jfNzoY"
   },
   "outputs": [],
   "source": [
    "df_train['news'] = df_train['news'].str.replace(r'[-=+,#/\\?:^$.@*\\\"※~&%ㆍ!』\\\\‘|\\(\\)\\[\\]\\<\\>`\\'…》]+', \" \", regex=True)\n",
    "df_test['news'] = df_test['news'].str.replace(r'[-=+,#/\\?:^$.@*\\\"※~&%ㆍ!』\\\\‘|\\(\\)\\[\\]\\<\\>`\\'…》]', \" \", regex=True)"
   ]
  },
  {
   "cell_type": "markdown",
   "metadata": {
    "id": "RnCHT78kJAFK"
   },
   "source": [
    "## Check Text After cleaning"
   ]
  },
  {
   "cell_type": "markdown",
   "metadata": {
    "id": "gz0fXyPVJAFK"
   },
   "source": [
    " #### Trainset review & summary length Vis"
   ]
  },
  {
   "cell_type": "code",
   "execution_count": null,
   "metadata": {
    "colab": {
     "base_uri": "https://localhost:8080/",
     "height": 331
    },
    "executionInfo": {
     "elapsed": 569,
     "status": "ok",
     "timestamp": 1679027247624,
     "user": {
      "displayName": "Cheonuk Park",
      "userId": "04341526218995438359"
     },
     "user_tz": -540
    },
    "id": "wrMrTnNyJAFK",
    "outputId": "3cdac985-6de9-40c0-fc17-e997be130973"
   },
   "outputs": [
    {
     "name": "stdout",
     "output_type": "stream",
     "text": [
      "review max len : 180\n",
      "review min len : 61\n",
      "review avg len : 138.17485\n"
     ]
    },
    {
     "data": {
      "image/png": "[encoded data removed]",
      "text/plain": [
       "<Figure size 432x288 with 1 Axes>"
      ]
     },
     "metadata": {},
     "output_type": "display_data"
    }
   ],
   "source": [
    "import matplotlib.pyplot as plt\n",
    "\n",
    "print('review max len :',max(len(l) for l in df_train.news))\n",
    "print('review min len :',min(len(l) for l in df_train.news))\n",
    "print('review avg len :',sum(map(len,df_train.news))/len(df_train.news))\n",
    "\n",
    "plt.hist([len(s) for s in df_train.news], bins=50)\n",
    "plt.xlabel('length of review')\n",
    "plt.ylabel('number of review')\n",
    "plt.show()"
   ]
  },
  {
   "cell_type": "code",
   "execution_count": null,
   "metadata": {
    "colab": {
     "base_uri": "https://localhost:8080/",
     "height": 331
    },
    "executionInfo": {
     "elapsed": 465,
     "status": "ok",
     "timestamp": 1679027248082,
     "user": {
      "displayName": "Cheonuk Park",
      "userId": "04341526218995438359"
     },
     "user_tz": -540
    },
    "id": "qHn8DumtJAFL",
    "outputId": "6bb8e511-f7f5-41d9-d41b-8e2fc5fb29f7"
   },
   "outputs": [
    {
     "name": "stdout",
     "output_type": "stream",
     "text": [
      "summary max len : 128\n",
      "summary min len : 33\n",
      "summary avg len : 45.2029\n"
     ]
    },
    {
     "data": {
      "image/png": "[encoded data removed]",
      "text/plain": [
       "<Figure size 432x288 with 1 Axes>"
      ]
     },
     "metadata": {},
     "output_type": "display_data"
    }
   ],
   "source": [
    "print('summary max len :',max(len(l) for l in df_train.summary))\n",
    "print('summary min len :',min(len(l) for l in df_train.summary))\n",
    "print('summary avg len :',sum(map(len,df_train.summary))/len(df_train.summary))\n",
    "\n",
    "plt.hist([len(s) for s in df_train.summary], bins=50)\n",
    "plt.xlabel('length of summary')\n",
    "plt.ylabel('number of summary')\n",
    "plt.show()"
   ]
  },
  {
   "cell_type": "markdown",
   "metadata": {
    "id": "HlPhn6HpJAFL"
   },
   "source": [
    "#### Testset review length Vis"
   ]
  },
  {
   "cell_type": "code",
   "execution_count": null,
   "metadata": {
    "colab": {
     "base_uri": "https://localhost:8080/",
     "height": 331
    },
    "executionInfo": {
     "elapsed": 625,
     "status": "ok",
     "timestamp": 1679027250161,
     "user": {
      "displayName": "Cheonuk Park",
      "userId": "04341526218995438359"
     },
     "user_tz": -540
    },
    "id": "5-Vr5G_8JAFL",
    "outputId": "1b8218f5-5467-4441-e3a1-b4985d8e8c35"
   },
   "outputs": [
    {
     "name": "stdout",
     "output_type": "stream",
     "text": [
      "test review max len : 180\n",
      "test review min len : 77\n",
      "test review avg len : 137.98623402163224\n"
     ]
    },
    {
     "data": {
      "image/png": "[encoded data removed]",
      "text/plain": [
       "<Figure size 432x288 with 1 Axes>"
      ]
     },
     "metadata": {},
     "output_type": "display_data"
    }
   ],
   "source": [
    "print('test review max len :',max(len(l) for l in df_test.news))\n",
    "print('test review min len :',min(len(l) for l in df_test.news))\n",
    "print('test review avg len :',sum(map(len,df_test.news))/len(df_test.news))\n",
    "\n",
    "plt.hist([len(s) for s in df_test.news], bins=50)\n",
    "plt.xlabel('length of test review')\n",
    "plt.ylabel('number of test review')\n",
    "plt.show()"
   ]
  },
  {
   "cell_type": "markdown",
   "metadata": {
    "id": "fSjxccPFG45c"
   },
   "source": [
    "## Save Dataset"
   ]
  },
  {
   "cell_type": "code",
   "execution_count": null,
   "metadata": {
    "id": "pTJoB4VYJAFM"
   },
   "outputs": [],
   "source": [
    "df_train.to_csv('/content/drive/Shareddrives/Capstone/KoBART-summarization/data/train.tsv', sep='\\t',index=False)\n",
    "df_test.to_csv('/content/drive/Shareddrives/Capstone/KoBART-summarization/data/test.tsv', sep='\\t',index=False)"
   ]
  }
 ],
 "metadata": {
  "colab": {
   "name": "",
   "version": ""
  },
  "gpuClass": "standard",
  "kernelspec": {
   "display_name": "Python 3 (ipykernel)",
   "language": "python",
   "name": "python3"
  },
  "language_info": {
   "codemirror_mode": {
    "name": "ipython",
    "version": 3
   },
   "file_extension": ".py",
   "mimetype": "text/x-python",
   "name": "python",
   "nbconvert_exporter": "python",
   "pygments_lexer": "ipython3",
   "version": "3.9.6"
  }
 },
 "nbformat": 4,
 "nbformat_minor": 1
}
